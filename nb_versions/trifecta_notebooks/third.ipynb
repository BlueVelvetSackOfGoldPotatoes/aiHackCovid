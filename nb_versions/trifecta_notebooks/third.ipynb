{
 "cells": [
  {
   "cell_type": "markdown",
   "metadata": {},
   "source": [
    "# Checking Correlation between variables - testing theories"
   ]
  },
  {
   "cell_type": "markdown",
   "metadata": {},
   "source": [
    "## Estimating the correlation between two variables with a contingency table and a chi-squared test\n",
    "\n",
    "Estimating correlation between total number of deaths and being a smoker (both female and male smokers).\n",
    "Note that the exact same analysis could be done for other variables, for example: cardiovasc death rate and diabetes prevalence."
   ]
  },
  {
   "cell_type": "code",
   "execution_count": 99,
   "metadata": {},
   "outputs": [
    {
     "data": {
      "text/html": [
       "<div>\n",
       "<style scoped>\n",
       "    .dataframe tbody tr th:only-of-type {\n",
       "        vertical-align: middle;\n",
       "    }\n",
       "\n",
       "    .dataframe tbody tr th {\n",
       "        vertical-align: top;\n",
       "    }\n",
       "\n",
       "    .dataframe thead th {\n",
       "        text-align: right;\n",
       "    }\n",
       "</style>\n",
       "<table border=\"1\" class=\"dataframe\">\n",
       "  <thead>\n",
       "    <tr style=\"text-align: right;\">\n",
       "      <th></th>\n",
       "      <th>iso_code</th>\n",
       "      <th>location</th>\n",
       "      <th>date</th>\n",
       "      <th>total_cases</th>\n",
       "      <th>new_cases</th>\n",
       "      <th>new_cases_smoothed</th>\n",
       "      <th>total_deaths</th>\n",
       "      <th>new_deaths</th>\n",
       "      <th>new_deaths_smoothed</th>\n",
       "      <th>total_cases_per_million</th>\n",
       "      <th>new_cases_per_million</th>\n",
       "      <th>new_cases_smoothed_per_million</th>\n",
       "      <th>total_deaths_per_million</th>\n",
       "      <th>new_deaths_per_million</th>\n",
       "      <th>new_deaths_smoothed_per_million</th>\n",
       "      <th>reproduction_rate</th>\n",
       "      <th>icu_patients</th>\n",
       "      <th>icu_patients_per_million</th>\n",
       "      <th>hosp_patients</th>\n",
       "      <th>hosp_patients_per_million</th>\n",
       "      <th>weekly_icu_admissions</th>\n",
       "      <th>weekly_icu_admissions_per_million</th>\n",
       "      <th>weekly_hosp_admissions</th>\n",
       "      <th>weekly_hosp_admissions_per_million</th>\n",
       "      <th>new_tests</th>\n",
       "      <th>total_tests</th>\n",
       "      <th>total_tests_per_thousand</th>\n",
       "      <th>new_tests_per_thousand</th>\n",
       "      <th>new_tests_smoothed</th>\n",
       "      <th>new_tests_smoothed_per_thousand</th>\n",
       "      <th>positive_rate</th>\n",
       "      <th>tests_per_case</th>\n",
       "      <th>tests_units</th>\n",
       "      <th>total_vaccinations</th>\n",
       "      <th>people_vaccinated</th>\n",
       "      <th>people_fully_vaccinated</th>\n",
       "      <th>new_vaccinations</th>\n",
       "      <th>new_vaccinations_smoothed</th>\n",
       "      <th>total_vaccinations_per_hundred</th>\n",
       "      <th>people_vaccinated_per_hundred</th>\n",
       "      <th>people_fully_vaccinated_per_hundred</th>\n",
       "      <th>new_vaccinations_smoothed_per_million</th>\n",
       "      <th>stringency_index</th>\n",
       "      <th>population</th>\n",
       "      <th>population_density</th>\n",
       "      <th>median_age</th>\n",
       "      <th>aged_65_older</th>\n",
       "      <th>aged_70_older</th>\n",
       "      <th>gdp_per_capita</th>\n",
       "      <th>extreme_poverty</th>\n",
       "      <th>cardiovasc_death_rate</th>\n",
       "      <th>diabetes_prevalence</th>\n",
       "      <th>female_smokers</th>\n",
       "      <th>male_smokers</th>\n",
       "      <th>handwashing_facilities</th>\n",
       "      <th>hospital_beds_per_thousand</th>\n",
       "      <th>life_expectancy</th>\n",
       "      <th>human_development_index</th>\n",
       "    </tr>\n",
       "    <tr>\n",
       "      <th>continent</th>\n",
       "      <th></th>\n",
       "      <th></th>\n",
       "      <th></th>\n",
       "      <th></th>\n",
       "      <th></th>\n",
       "      <th></th>\n",
       "      <th></th>\n",
       "      <th></th>\n",
       "      <th></th>\n",
       "      <th></th>\n",
       "      <th></th>\n",
       "      <th></th>\n",
       "      <th></th>\n",
       "      <th></th>\n",
       "      <th></th>\n",
       "      <th></th>\n",
       "      <th></th>\n",
       "      <th></th>\n",
       "      <th></th>\n",
       "      <th></th>\n",
       "      <th></th>\n",
       "      <th></th>\n",
       "      <th></th>\n",
       "      <th></th>\n",
       "      <th></th>\n",
       "      <th></th>\n",
       "      <th></th>\n",
       "      <th></th>\n",
       "      <th></th>\n",
       "      <th></th>\n",
       "      <th></th>\n",
       "      <th></th>\n",
       "      <th></th>\n",
       "      <th></th>\n",
       "      <th></th>\n",
       "      <th></th>\n",
       "      <th></th>\n",
       "      <th></th>\n",
       "      <th></th>\n",
       "      <th></th>\n",
       "      <th></th>\n",
       "      <th></th>\n",
       "      <th></th>\n",
       "      <th></th>\n",
       "      <th></th>\n",
       "      <th></th>\n",
       "      <th></th>\n",
       "      <th></th>\n",
       "      <th></th>\n",
       "      <th></th>\n",
       "      <th></th>\n",
       "      <th></th>\n",
       "      <th></th>\n",
       "      <th></th>\n",
       "      <th></th>\n",
       "      <th></th>\n",
       "      <th></th>\n",
       "      <th></th>\n",
       "    </tr>\n",
       "  </thead>\n",
       "  <tbody>\n",
       "    <tr>\n",
       "      <th>Asia</th>\n",
       "      <td>AFG</td>\n",
       "      <td>Afghanistan</td>\n",
       "      <td>2020-02-24</td>\n",
       "      <td>1.0</td>\n",
       "      <td>1.0</td>\n",
       "      <td>NaN</td>\n",
       "      <td>NaN</td>\n",
       "      <td>NaN</td>\n",
       "      <td>NaN</td>\n",
       "      <td>0.026</td>\n",
       "      <td>0.026</td>\n",
       "      <td>NaN</td>\n",
       "      <td>NaN</td>\n",
       "      <td>NaN</td>\n",
       "      <td>NaN</td>\n",
       "      <td>NaN</td>\n",
       "      <td>NaN</td>\n",
       "      <td>NaN</td>\n",
       "      <td>NaN</td>\n",
       "      <td>NaN</td>\n",
       "      <td>NaN</td>\n",
       "      <td>NaN</td>\n",
       "      <td>NaN</td>\n",
       "      <td>NaN</td>\n",
       "      <td>NaN</td>\n",
       "      <td>NaN</td>\n",
       "      <td>NaN</td>\n",
       "      <td>NaN</td>\n",
       "      <td>NaN</td>\n",
       "      <td>NaN</td>\n",
       "      <td>NaN</td>\n",
       "      <td>NaN</td>\n",
       "      <td>NaN</td>\n",
       "      <td>NaN</td>\n",
       "      <td>NaN</td>\n",
       "      <td>NaN</td>\n",
       "      <td>NaN</td>\n",
       "      <td>NaN</td>\n",
       "      <td>NaN</td>\n",
       "      <td>NaN</td>\n",
       "      <td>NaN</td>\n",
       "      <td>NaN</td>\n",
       "      <td>8.33</td>\n",
       "      <td>38928341.0</td>\n",
       "      <td>54.422</td>\n",
       "      <td>18.6</td>\n",
       "      <td>2.581</td>\n",
       "      <td>1.337</td>\n",
       "      <td>1803.987</td>\n",
       "      <td>NaN</td>\n",
       "      <td>597.029</td>\n",
       "      <td>9.59</td>\n",
       "      <td>NaN</td>\n",
       "      <td>NaN</td>\n",
       "      <td>37.746</td>\n",
       "      <td>0.5</td>\n",
       "      <td>64.83</td>\n",
       "      <td>0.511</td>\n",
       "    </tr>\n",
       "  </tbody>\n",
       "</table>\n",
       "</div>"
      ],
      "text/plain": [
       "          iso_code     location        date  total_cases  new_cases  \\\n",
       "continent                                                             \n",
       "Asia           AFG  Afghanistan  2020-02-24          1.0        1.0   \n",
       "\n",
       "           new_cases_smoothed  total_deaths  new_deaths  new_deaths_smoothed  \\\n",
       "continent                                                                      \n",
       "Asia                      NaN           NaN         NaN                  NaN   \n",
       "\n",
       "           total_cases_per_million  new_cases_per_million  \\\n",
       "continent                                                   \n",
       "Asia                         0.026                  0.026   \n",
       "\n",
       "           new_cases_smoothed_per_million  total_deaths_per_million  \\\n",
       "continent                                                             \n",
       "Asia                                  NaN                       NaN   \n",
       "\n",
       "           new_deaths_per_million  new_deaths_smoothed_per_million  \\\n",
       "continent                                                            \n",
       "Asia                          NaN                              NaN   \n",
       "\n",
       "           reproduction_rate  icu_patients  icu_patients_per_million  \\\n",
       "continent                                                              \n",
       "Asia                     NaN           NaN                       NaN   \n",
       "\n",
       "           hosp_patients  hosp_patients_per_million  weekly_icu_admissions  \\\n",
       "continent                                                                    \n",
       "Asia                 NaN                        NaN                    NaN   \n",
       "\n",
       "           weekly_icu_admissions_per_million  weekly_hosp_admissions  \\\n",
       "continent                                                              \n",
       "Asia                                     NaN                     NaN   \n",
       "\n",
       "           weekly_hosp_admissions_per_million  new_tests  total_tests  \\\n",
       "continent                                                               \n",
       "Asia                                      NaN        NaN          NaN   \n",
       "\n",
       "           total_tests_per_thousand  new_tests_per_thousand  \\\n",
       "continent                                                     \n",
       "Asia                            NaN                     NaN   \n",
       "\n",
       "           new_tests_smoothed  new_tests_smoothed_per_thousand  positive_rate  \\\n",
       "continent                                                                       \n",
       "Asia                      NaN                              NaN            NaN   \n",
       "\n",
       "           tests_per_case tests_units  total_vaccinations  people_vaccinated  \\\n",
       "continent                                                                      \n",
       "Asia                  NaN         NaN                 NaN                NaN   \n",
       "\n",
       "           people_fully_vaccinated  new_vaccinations  \\\n",
       "continent                                              \n",
       "Asia                           NaN               NaN   \n",
       "\n",
       "           new_vaccinations_smoothed  total_vaccinations_per_hundred  \\\n",
       "continent                                                              \n",
       "Asia                             NaN                             NaN   \n",
       "\n",
       "           people_vaccinated_per_hundred  people_fully_vaccinated_per_hundred  \\\n",
       "continent                                                                       \n",
       "Asia                                 NaN                                  NaN   \n",
       "\n",
       "           new_vaccinations_smoothed_per_million  stringency_index  \\\n",
       "continent                                                            \n",
       "Asia                                         NaN              8.33   \n",
       "\n",
       "           population  population_density  median_age  aged_65_older  \\\n",
       "continent                                                              \n",
       "Asia       38928341.0              54.422        18.6          2.581   \n",
       "\n",
       "           aged_70_older  gdp_per_capita  extreme_poverty  \\\n",
       "continent                                                   \n",
       "Asia               1.337        1803.987              NaN   \n",
       "\n",
       "           cardiovasc_death_rate  diabetes_prevalence  female_smokers  \\\n",
       "continent                                                               \n",
       "Asia                     597.029                 9.59             NaN   \n",
       "\n",
       "           male_smokers  handwashing_facilities  hospital_beds_per_thousand  \\\n",
       "continent                                                                     \n",
       "Asia                NaN                  37.746                         0.5   \n",
       "\n",
       "           life_expectancy  human_development_index  \n",
       "continent                                            \n",
       "Asia                 64.83                    0.511  "
      ]
     },
     "metadata": {},
     "output_type": "display_data"
    }
   ],
   "source": [
    "import os\n",
    "import pandas as pd\n",
    "\n",
    "pd.set_option('display.max_columns', None)\n",
    "\n",
    "df_indexed = pd.read_csv(r\"/home/goncalo/Documents/cover/Illuminatti/hackathon/aiHackCovid/datasets/owid-covid-data.csv\", index_col='continent')\n",
    "\n",
    "display(df_indexed.head(1))"
   ]
  },
  {
   "cell_type": "code",
   "execution_count": 88,
   "metadata": {},
   "outputs": [],
   "source": [
    "# Select latest available data\n",
    "df_indexed = df_indexed.loc[df_indexed['date'] == '2021-04-24']\n",
    "\n",
    "countries = df_indexed['location']\n",
    "total_deaths = df_indexed['total_deaths']\n",
    "\n",
    "n_smokers = df_indexed['female_smokers'] + df_indexed['male_smokers']"
   ]
  },
  {
   "cell_type": "code",
   "execution_count": 95,
   "metadata": {},
   "outputs": [
    {
     "data": {
      "text/html": [
       "<div>\n",
       "<style scoped>\n",
       "    .dataframe tbody tr th:only-of-type {\n",
       "        vertical-align: middle;\n",
       "    }\n",
       "\n",
       "    .dataframe tbody tr th {\n",
       "        vertical-align: top;\n",
       "    }\n",
       "\n",
       "    .dataframe thead th {\n",
       "        text-align: right;\n",
       "    }\n",
       "</style>\n",
       "<table border=\"1\" class=\"dataframe\">\n",
       "  <thead>\n",
       "    <tr style=\"text-align: right;\">\n",
       "      <th></th>\n",
       "      <th></th>\n",
       "      <th>total_deaths</th>\n",
       "      <th>n_smokers</th>\n",
       "    </tr>\n",
       "    <tr>\n",
       "      <th></th>\n",
       "      <th>country</th>\n",
       "      <th></th>\n",
       "      <th></th>\n",
       "    </tr>\n",
       "  </thead>\n",
       "  <tbody>\n",
       "    <tr>\n",
       "      <th>0</th>\n",
       "      <th>Albania</th>\n",
       "      <td>2372.0</td>\n",
       "      <td>58.3</td>\n",
       "    </tr>\n",
       "    <tr>\n",
       "      <th>1</th>\n",
       "      <th>Algeria</th>\n",
       "      <td>3198.0</td>\n",
       "      <td>31.1</td>\n",
       "    </tr>\n",
       "    <tr>\n",
       "      <th>2</th>\n",
       "      <th>Andorra</th>\n",
       "      <td>124.0</td>\n",
       "      <td>66.8</td>\n",
       "    </tr>\n",
       "    <tr>\n",
       "      <th>3</th>\n",
       "      <th>Argentina</th>\n",
       "      <td>61474.0</td>\n",
       "      <td>43.9</td>\n",
       "    </tr>\n",
       "    <tr>\n",
       "      <th>4</th>\n",
       "      <th>Armenia</th>\n",
       "      <td>4001.0</td>\n",
       "      <td>53.6</td>\n",
       "    </tr>\n",
       "  </tbody>\n",
       "</table>\n",
       "</div>"
      ],
      "text/plain": [
       "             total_deaths  n_smokers\n",
       "  country                           \n",
       "0 Albania          2372.0       58.3\n",
       "1 Algeria          3198.0       31.1\n",
       "2 Andorra           124.0       66.8\n",
       "3 Argentina       61474.0       43.9\n",
       "4 Armenia          4001.0       53.6"
      ]
     },
     "execution_count": 95,
     "metadata": {},
     "output_type": "execute_result"
    }
   ],
   "source": [
    "df_bis_smoking = pd.DataFrame({'country':countries,\n",
    "                       'total_deaths': total_deaths,\n",
    "                       'n_smokers': n_smokers}).dropna()\n",
    "\n",
    "df_bis_smoking = df_bis_smoking.reset_index(drop=True)\n",
    "\n",
    "df_bis_smoking.set_index([\"country\"], inplace = True,\n",
    "                    append = True, drop = True)\n",
    "\n",
    "df_bis_smoking.head()"
   ]
  },
  {
   "cell_type": "markdown",
   "metadata": {},
   "source": [
    "## Pearson's correlation coefficient\n"
   ]
  },
  {
   "cell_type": "code",
   "execution_count": 90,
   "metadata": {},
   "outputs": [
    {
     "data": {
      "text/html": [
       "<div>\n",
       "<style scoped>\n",
       "    .dataframe tbody tr th:only-of-type {\n",
       "        vertical-align: middle;\n",
       "    }\n",
       "\n",
       "    .dataframe tbody tr th {\n",
       "        vertical-align: top;\n",
       "    }\n",
       "\n",
       "    .dataframe thead th {\n",
       "        text-align: right;\n",
       "    }\n",
       "</style>\n",
       "<table border=\"1\" class=\"dataframe\">\n",
       "  <thead>\n",
       "    <tr style=\"text-align: right;\">\n",
       "      <th></th>\n",
       "      <th>total_deaths</th>\n",
       "      <th>n_smokers</th>\n",
       "    </tr>\n",
       "  </thead>\n",
       "  <tbody>\n",
       "    <tr>\n",
       "      <th>total_deaths</th>\n",
       "      <td>1.000000</td>\n",
       "      <td>-0.005351</td>\n",
       "    </tr>\n",
       "    <tr>\n",
       "      <th>n_smokers</th>\n",
       "      <td>-0.005351</td>\n",
       "      <td>1.000000</td>\n",
       "    </tr>\n",
       "  </tbody>\n",
       "</table>\n",
       "</div>"
      ],
      "text/plain": [
       "              total_deaths  n_smokers\n",
       "total_deaths      1.000000  -0.005351\n",
       "n_smokers        -0.005351   1.000000"
      ]
     },
     "execution_count": 90,
     "metadata": {},
     "output_type": "execute_result"
    }
   ],
   "source": [
    "# Measures linear correlation between two sets of data - the closest to 1 the higher the correlation.\n",
    "df_bis_smoking.corr()"
   ]
  },
  {
   "cell_type": "markdown",
   "metadata": {},
   "source": [
    "This is a very low negative correlation between smoking and death from Covid-19."
   ]
  },
  {
   "cell_type": "markdown",
   "metadata": {},
   "source": [
    "# Contingency table yielding frequency"
   ]
  },
  {
   "cell_type": "code",
   "execution_count": 91,
   "metadata": {},
   "outputs": [
    {
     "data": {
      "text/html": [
       "<div>\n",
       "<style scoped>\n",
       "    .dataframe tbody tr th:only-of-type {\n",
       "        vertical-align: middle;\n",
       "    }\n",
       "\n",
       "    .dataframe tbody tr th {\n",
       "        vertical-align: top;\n",
       "    }\n",
       "\n",
       "    .dataframe thead th {\n",
       "        text-align: right;\n",
       "    }\n",
       "</style>\n",
       "<table border=\"1\" class=\"dataframe\">\n",
       "  <thead>\n",
       "    <tr style=\"text-align: right;\">\n",
       "      <th>n_smokers_binarized</th>\n",
       "      <th>False</th>\n",
       "      <th>True</th>\n",
       "    </tr>\n",
       "    <tr>\n",
       "      <th>total_deaths_binarized</th>\n",
       "      <th></th>\n",
       "      <th></th>\n",
       "    </tr>\n",
       "  </thead>\n",
       "  <tbody>\n",
       "    <tr>\n",
       "      <th>False</th>\n",
       "      <td>48</td>\n",
       "      <td>22</td>\n",
       "    </tr>\n",
       "    <tr>\n",
       "      <th>True</th>\n",
       "      <td>23</td>\n",
       "      <td>46</td>\n",
       "    </tr>\n",
       "  </tbody>\n",
       "</table>\n",
       "</div>"
      ],
      "text/plain": [
       "n_smokers_binarized     False  True \n",
       "total_deaths_binarized              \n",
       "False                      48     22\n",
       "True                       23     46"
      ]
     },
     "execution_count": 91,
     "metadata": {},
     "output_type": "execute_result"
    }
   ],
   "source": [
    "df_bis_smoking['total_deaths_binarized'] = (df_bis_smoking['total_deaths'] > df_bis_smoking['total_deaths'].median())\n",
    "df_bis_smoking['n_smokers_binarized'] = (df_bis_smoking['n_smokers'] > df_bis_smoking['n_smokers'].median())\n",
    "\n",
    "pd.crosstab(df_bis_smoking['total_deaths_binarized'], df_bis_smoking['n_smokers_binarized'])"
   ]
  },
  {
   "cell_type": "markdown",
   "metadata": {},
   "source": [
    "## To determine if there is a statistically significant correlation between the variables -> chi-squared test"
   ]
  },
  {
   "cell_type": "code",
   "execution_count": 92,
   "metadata": {},
   "outputs": [
    {
     "data": {
      "text/plain": [
       "(15.885715775900074,\n",
       " 6.728463101347897e-05,\n",
       " 1,\n",
       " array([[35.75539568, 34.24460432],\n",
       "        [35.24460432, 33.75539568]]))"
      ]
     },
     "execution_count": 92,
     "metadata": {},
     "output_type": "execute_result"
    }
   ],
   "source": [
    "from IPython.display import display_html\n",
    "import scipy.stats as st\n",
    "\n",
    "this = pd.crosstab(df_bis_smoking['total_deaths_binarized'], df_bis_smoking['n_smokers_binarized'])\n",
    "st.chi2_contingency(this)"
   ]
  },
  {
   "cell_type": "markdown",
   "metadata": {},
   "source": [
    "# Conclusion\n",
    "The second value of the Chi-squared test is the p-value which indicates the likelihood of the null-hypothesis (in this case, that smoking is not correlated with the number of deaths). Since it's much lower than 0.05 we can reject the null - there is then a correlation between the proportion of deaths and smoking, or rather, the data shows this correlation as indicated by this test."
   ]
  },
  {
   "cell_type": "markdown",
   "metadata": {},
   "source": [
    "# Multivariate Linear Regression\n",
    "Modelling the relationship between a dependent variable and one or more independent variables."
   ]
  },
  {
   "cell_type": "code",
   "execution_count": 98,
   "metadata": {},
   "outputs": [
    {
     "data": {
      "text/html": [
       "<div>\n",
       "<style scoped>\n",
       "    .dataframe tbody tr th:only-of-type {\n",
       "        vertical-align: middle;\n",
       "    }\n",
       "\n",
       "    .dataframe tbody tr th {\n",
       "        vertical-align: top;\n",
       "    }\n",
       "\n",
       "    .dataframe thead th {\n",
       "        text-align: right;\n",
       "    }\n",
       "</style>\n",
       "<table border=\"1\" class=\"dataframe\">\n",
       "  <thead>\n",
       "    <tr style=\"text-align: right;\">\n",
       "      <th></th>\n",
       "      <th></th>\n",
       "      <th>total_deaths</th>\n",
       "      <th>diabetes_prevalence</th>\n",
       "      <th>cvd_rate</th>\n",
       "      <th>n_smokers</th>\n",
       "    </tr>\n",
       "    <tr>\n",
       "      <th></th>\n",
       "      <th>country</th>\n",
       "      <th></th>\n",
       "      <th></th>\n",
       "      <th></th>\n",
       "      <th></th>\n",
       "    </tr>\n",
       "  </thead>\n",
       "  <tbody>\n",
       "    <tr>\n",
       "      <th>0</th>\n",
       "      <th>Albania</th>\n",
       "      <td>2372.0</td>\n",
       "      <td>10.08</td>\n",
       "      <td>304.195</td>\n",
       "      <td>58.3</td>\n",
       "    </tr>\n",
       "    <tr>\n",
       "      <th>1</th>\n",
       "      <th>Algeria</th>\n",
       "      <td>3198.0</td>\n",
       "      <td>6.73</td>\n",
       "      <td>278.364</td>\n",
       "      <td>31.1</td>\n",
       "    </tr>\n",
       "    <tr>\n",
       "      <th>2</th>\n",
       "      <th>Andorra</th>\n",
       "      <td>124.0</td>\n",
       "      <td>7.97</td>\n",
       "      <td>109.135</td>\n",
       "      <td>66.8</td>\n",
       "    </tr>\n",
       "    <tr>\n",
       "      <th>3</th>\n",
       "      <th>Argentina</th>\n",
       "      <td>61474.0</td>\n",
       "      <td>5.50</td>\n",
       "      <td>191.032</td>\n",
       "      <td>43.9</td>\n",
       "    </tr>\n",
       "    <tr>\n",
       "      <th>4</th>\n",
       "      <th>Armenia</th>\n",
       "      <td>4001.0</td>\n",
       "      <td>7.11</td>\n",
       "      <td>341.010</td>\n",
       "      <td>53.6</td>\n",
       "    </tr>\n",
       "  </tbody>\n",
       "</table>\n",
       "</div>"
      ],
      "text/plain": [
       "             total_deaths  diabetes_prevalence  cvd_rate  n_smokers\n",
       "  country                                                          \n",
       "0 Albania          2372.0                10.08   304.195       58.3\n",
       "1 Algeria          3198.0                 6.73   278.364       31.1\n",
       "2 Andorra           124.0                 7.97   109.135       66.8\n",
       "3 Argentina       61474.0                 5.50   191.032       43.9\n",
       "4 Armenia          4001.0                 7.11   341.010       53.6"
      ]
     },
     "metadata": {},
     "output_type": "display_data"
    }
   ],
   "source": [
    "df_indexed = pd.read_csv(r\"/home/goncalo/Documents/cover/Illuminatti/hackathon/aiHackCovid/datasets/owid-covid-data.csv\", index_col='continent')\n",
    "\n",
    "df_indexed = df_indexed.loc[df_indexed['date'] == '2021-04-24']\n",
    "\n",
    "countries = df_indexed['location']\n",
    "total_deaths = df_indexed['total_deaths']\n",
    "diabetes = df_indexed['diabetes_prevalence']\n",
    "cvd_rate = df_indexed['cardiovasc_death_rate']\n",
    "n_smokers = df_indexed['female_smokers'] + df_indexed['male_smokers']\n",
    "\n",
    "df_bis = pd.DataFrame({'country':countries,\n",
    "                       'total_deaths': total_deaths,\n",
    "                       'diabetes_prevalence': diabetes,\n",
    "                       'cvd_rate': cvd_rate,\n",
    "                       'n_smokers': n_smokers}).dropna()\n",
    "\n",
    "df_bis = df_bis.reset_index(drop=True)\n",
    "\n",
    "df_bis.set_index([\"country\"], inplace = True,\n",
    "                    append = True, drop = True)\n",
    "\n",
    "display(df_bis.head())"
   ]
  },
  {
   "cell_type": "code",
   "execution_count": 97,
   "metadata": {},
   "outputs": [
    {
     "data": {
      "text/html": [
       "<div>\n",
       "<style scoped>\n",
       "    .dataframe tbody tr th:only-of-type {\n",
       "        vertical-align: middle;\n",
       "    }\n",
       "\n",
       "    .dataframe tbody tr th {\n",
       "        vertical-align: top;\n",
       "    }\n",
       "\n",
       "    .dataframe thead th {\n",
       "        text-align: right;\n",
       "    }\n",
       "</style>\n",
       "<table border=\"1\" class=\"dataframe\">\n",
       "  <thead>\n",
       "    <tr style=\"text-align: right;\">\n",
       "      <th></th>\n",
       "      <th>total_deaths</th>\n",
       "      <th>diabetes_prevalence</th>\n",
       "      <th>cvd_rate</th>\n",
       "      <th>n_smokers</th>\n",
       "    </tr>\n",
       "  </thead>\n",
       "  <tbody>\n",
       "    <tr>\n",
       "      <th>count</th>\n",
       "      <td>1.390000e+02</td>\n",
       "      <td>139.000000</td>\n",
       "      <td>139.000000</td>\n",
       "      <td>139.000000</td>\n",
       "    </tr>\n",
       "    <tr>\n",
       "      <th>mean</th>\n",
       "      <td>4.361565e+04</td>\n",
       "      <td>7.563597</td>\n",
       "      <td>253.587820</td>\n",
       "      <td>42.997619</td>\n",
       "    </tr>\n",
       "    <tr>\n",
       "      <th>std</th>\n",
       "      <td>2.692318e+05</td>\n",
       "      <td>3.867904</td>\n",
       "      <td>123.443482</td>\n",
       "      <td>18.779230</td>\n",
       "    </tr>\n",
       "    <tr>\n",
       "      <th>min</th>\n",
       "      <td>1.000000e+00</td>\n",
       "      <td>0.990000</td>\n",
       "      <td>79.370000</td>\n",
       "      <td>8.000000</td>\n",
       "    </tr>\n",
       "    <tr>\n",
       "      <th>25%</th>\n",
       "      <td>3.220000e+02</td>\n",
       "      <td>4.940000</td>\n",
       "      <td>153.500000</td>\n",
       "      <td>27.900000</td>\n",
       "    </tr>\n",
       "    <tr>\n",
       "      <th>50%</th>\n",
       "      <td>2.101000e+03</td>\n",
       "      <td>7.070000</td>\n",
       "      <td>237.372000</td>\n",
       "      <td>43.400000</td>\n",
       "    </tr>\n",
       "    <tr>\n",
       "      <th>75%</th>\n",
       "      <td>1.077300e+04</td>\n",
       "      <td>9.215000</td>\n",
       "      <td>322.356000</td>\n",
       "      <td>54.750000</td>\n",
       "    </tr>\n",
       "    <tr>\n",
       "      <th>max</th>\n",
       "      <td>3.099467e+06</td>\n",
       "      <td>22.020000</td>\n",
       "      <td>724.417000</td>\n",
       "      <td>91.900000</td>\n",
       "    </tr>\n",
       "  </tbody>\n",
       "</table>\n",
       "</div>"
      ],
      "text/plain": [
       "       total_deaths  diabetes_prevalence    cvd_rate   n_smokers\n",
       "count  1.390000e+02           139.000000  139.000000  139.000000\n",
       "mean   4.361565e+04             7.563597  253.587820   42.997619\n",
       "std    2.692318e+05             3.867904  123.443482   18.779230\n",
       "min    1.000000e+00             0.990000   79.370000    8.000000\n",
       "25%    3.220000e+02             4.940000  153.500000   27.900000\n",
       "50%    2.101000e+03             7.070000  237.372000   43.400000\n",
       "75%    1.077300e+04             9.215000  322.356000   54.750000\n",
       "max    3.099467e+06            22.020000  724.417000   91.900000"
      ]
     },
     "metadata": {},
     "output_type": "display_data"
    }
   ],
   "source": [
    "display(df_bis.describe())\n",
    "\n",
    "# We can see below a short summary of the data, like the mean or the max value for each metric."
   ]
  },
  {
   "cell_type": "markdown",
   "metadata": {},
   "source": [
    "## (Multivariate) Linear regression assumption of linearity"
   ]
  },
  {
   "cell_type": "code",
   "execution_count": 84,
   "metadata": {},
   "outputs": [
    {
     "name": "stderr",
     "output_type": "stream",
     "text": [
      "/home/goncalo/anaconda3/envs/hackathon/lib/python3.7/site-packages/statsmodels/graphics/gofplots.py:993: UserWarning: marker is redundantly defined by the 'marker' keyword argument and the fmt string \"bo\" (-> marker='o'). The keyword argument will take precedence.\n",
      "  ax.plot(x, y, fmt, **plot_style)\n"
     ]
    },
    {
     "data": {
      "image/png": "[encoded data removed]",
      "text/plain": [
       "<Figure size 432x288 with 1 Axes>"
      ]
     },
     "metadata": {
      "needs_background": "light"
     },
     "output_type": "display_data"
    },
    {
     "name": "stderr",
     "output_type": "stream",
     "text": [
      "/home/goncalo/anaconda3/envs/hackathon/lib/python3.7/site-packages/statsmodels/graphics/gofplots.py:993: UserWarning: marker is redundantly defined by the 'marker' keyword argument and the fmt string \"bo\" (-> marker='o'). The keyword argument will take precedence.\n",
      "  ax.plot(x, y, fmt, **plot_style)\n"
     ]
    },
    {
     "data": {
      "image/png": "[encoded data removed]",
      "text/plain": [
       "<Figure size 432x288 with 1 Axes>"
      ]
     },
     "metadata": {
      "needs_background": "light"
     },
     "output_type": "display_data"
    },
    {
     "name": "stderr",
     "output_type": "stream",
     "text": [
      "/home/goncalo/anaconda3/envs/hackathon/lib/python3.7/site-packages/statsmodels/graphics/gofplots.py:993: UserWarning: marker is redundantly defined by the 'marker' keyword argument and the fmt string \"bo\" (-> marker='o'). The keyword argument will take precedence.\n",
      "  ax.plot(x, y, fmt, **plot_style)\n"
     ]
    },
    {
     "data": {
      "image/png": "[encoded data removed]",
      "text/plain": [
       "<Figure size 432x288 with 1 Axes>"
      ]
     },
     "metadata": {
      "needs_background": "light"
     },
     "output_type": "display_data"
    },
    {
     "name": "stdout",
     "output_type": "stream",
     "text": [
      "The data can be considered normally distributed.\n"
     ]
    }
   ],
   "source": [
    "'''\n",
    "Verify normal distribution with, for example, a q-q plot, which\n",
    "compares our data with a Gaussian distribution (or normal distribution)\n",
    "'''\n",
    "from statsmodels.graphics.gofplots import qqplot\n",
    "from matplotlib import pyplot\n",
    "\n",
    "# q-q plot\n",
    "qqplot(df_bis['diabetes_prevalence'], line='s')\n",
    "pyplot.show()\n",
    "\n",
    "qqplot(df_bis['cvd_rate'], line='s')\n",
    "pyplot.show()\n",
    "\n",
    "qqplot(df_bis['n_smokers'], line='s')\n",
    "pyplot.show()\n",
    "\n",
    "print('The data can be considered normally distributed.')"
   ]
  },
  {
   "cell_type": "code",
   "execution_count": 96,
   "metadata": {},
   "outputs": [
    {
     "name": "stdout",
     "output_type": "stream",
     "text": [
      "7.249826452738661\n",
      "[-0.0086038  -0.00418358  0.03550622]\n",
      "\n",
      "Actual values:\n"
     ]
    },
    {
     "data": {
      "text/plain": [
       "     country         \n",
       "8    Bahamas              5.278115\n",
       "90   Niger                5.252273\n",
       "120  Tanzania             3.044522\n",
       "109  Sierra Leone         4.369448\n",
       "27   Comoros              4.983607\n",
       "101  Qatar                6.035481\n",
       "60   Italy               11.687055\n",
       "96   Papua New Guinea     4.624973\n",
       "113  South Africa        10.899051\n",
       "121  Thailand             4.859812\n",
       "26   Colombia            11.168828\n",
       "89   New Zealand          3.258097\n",
       "24   Chile               10.155879\n",
       "110  Singapore            3.401197\n",
       "91   Nigeria              7.630947\n",
       "59   Israel               8.756210\n",
       "135  World               14.946741\n",
       "51   Greece               9.205328\n",
       "119  Switzerland          9.268043\n",
       "106  Senegal              7.002156\n",
       "33   Czechia             10.272289\n",
       "22   Canada              10.082136\n",
       "2    Andorra              4.820282\n",
       "118  Sweden               9.541297\n",
       "62   Japan                9.199279\n",
       "18   Brunei               1.098612\n",
       "10   Bangladesh           9.301277\n",
       "54   Iceland              3.367296\n",
       "Name: total_deaths, dtype: float64"
      ]
     },
     "metadata": {},
     "output_type": "display_data"
    },
    {
     "name": "stdout",
     "output_type": "stream",
     "text": [
      "\n",
      "Predicted values:\n"
     ]
    },
    {
     "data": {
      "text/plain": [
       "array([6.98377864, 6.78224194, 7.35649992, 7.64518769, 7.04771492,\n",
       "       7.35201756, 8.42542025, 7.31601519])"
      ]
     },
     "metadata": {},
     "output_type": "display_data"
    }
   ],
   "source": [
    "from sklearn.linear_model import LinearRegression\n",
    "from sklearn.model_selection import train_test_split\n",
    "import numpy as np\n",
    "\n",
    "y = np.log(df_bis['total_deaths'])\n",
    "x = df_bis[['diabetes_prevalence', 'cvd_rate', 'n_smokers']]\n",
    "\n",
    "x_train, x_test, y_train, y_test = train_test_split(x, y, test_size=0.2, random_state=0)\n",
    "\n",
    "# define model\n",
    "linear_regression = LinearRegression()\n",
    "\n",
    "# fitting the model\n",
    "linear_regression.fit(x_train,y_train)\n",
    "\n",
    "print(linear_regression.intercept_)\n",
    "print(linear_regression.coef_)\n",
    "\n",
    "# predict with the data\n",
    "y_pred = linear_regression.predict(x_test)\n",
    "\n",
    "print()\n",
    "print('Actual values:')\n",
    "display(y_test)\n",
    "print()\n",
    "print('Predicted values:')\n",
    "display(y_pred[0:8])"
   ]
  },
  {
   "cell_type": "code",
   "execution_count": 86,
   "metadata": {
    "scrolled": true
   },
   "outputs": [
    {
     "data": {
      "text/plain": [
       "<AxesSubplot:xlabel='total_deaths'>"
      ]
     },
     "execution_count": 86,
     "metadata": {},
     "output_type": "execute_result"
    },
    {
     "data": {
      "image/png": "[encoded data removed]",
      "text/plain": [
       "<Figure size 432x288 with 1 Axes>"
      ]
     },
     "metadata": {
      "needs_background": "light"
     },
     "output_type": "display_data"
    }
   ],
   "source": [
    "import seaborn as sb\n",
    "\n",
    "sb.regplot(x=y_test, y=y_pred, ci=None, color=\"b\")"
   ]
  },
  {
   "cell_type": "markdown",
   "metadata": {},
   "source": [
    "We get an anedoctal result - the line shows underfitting. Still, the claim can be made, that based on this model and the data, there is a positive influence of the three variables in the total number of Covid-19 caused deaths worldwide, that is, cardiovasculary disease, diabetes and smoking."
   ]
  }
 ],
 "metadata": {
  "kernelspec": {
   "display_name": "hackathon",
   "language": "python",
   "name": "hackathon"
  },
  "language_info": {
   "codemirror_mode": {
    "name": "ipython",
    "version": 3
   },
   "file_extension": ".py",
   "mimetype": "text/x-python",
   "name": "python",
   "nbconvert_exporter": "python",
   "pygments_lexer": "ipython3",
   "version": "3.7.10"
  }
 },
 "nbformat": 4,
 "nbformat_minor": 5
}
